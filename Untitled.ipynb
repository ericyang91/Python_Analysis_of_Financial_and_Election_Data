{
 "cells": [
  {
   "cell_type": "markdown",
   "id": "d7967795",
   "metadata": {},
   "source": [
    "# PyBank"
   ]
  },
  {
   "cell_type": "markdown",
   "id": "6b73acc8",
   "metadata": {},
   "source": [
    "The task is to create a Python script that analyzes the records to calculate each of the following:\n",
    "\n",
    "* The total number of months included in the dataset\n",
    "\n",
    "* The net total amount of \"Profit/Losses\" over the entire period\n",
    "\n",
    "* The changes in \"Profit/Losses\" over the entire period, and then the average of those changes\n",
    "\n",
    "* The greatest increase in profits (date and amount) over the entire period\n",
    "\n",
    "* The greatest decrease in profits (date and amount) over the entire period"
   ]
  },
  {
   "cell_type": "code",
   "execution_count": 2,
   "id": "8acdadeb",
   "metadata": {},
   "outputs": [],
   "source": [
    "# Import dependencies\n",
    "import os\n",
    "import csv"
   ]
  },
  {
   "cell_type": "code",
   "execution_count": 16,
   "id": "42d7e66e",
   "metadata": {},
   "outputs": [],
   "source": [
    "bank_path = r'C:\\Users\\ericj\\OneDrive\\Documents\\Repositories\\Python_Analysis_of_Financial_and_Election_Data\\PyBank\\Resources\\budget_data.csv'\n",
    "\n",
    "\n",
    "# Same as bank_path = r'C:\\\\Users\\\\ericj\\\\OneDrive\\\\Documents\\\\Repositories\\\\Python_Analysis_of_Financial_and_Election_Data\\\\PyBank\\\\Resources\\\\budget_data.csv'\n",
    "# 'r' allows python to read \\ as raw literal strings rather than having special meaning"
   ]
  },
  {
   "cell_type": "code",
   "execution_count": 32,
   "id": "384f7849",
   "metadata": {},
   "outputs": [
    {
     "ename": "TypeError",
     "evalue": "'list' object is not an iterator",
     "output_type": "error",
     "traceback": [
      "\u001b[1;31m---------------------------------------------------------------------------\u001b[0m",
      "\u001b[1;31mTypeError\u001b[0m                                 Traceback (most recent call last)",
      "Input \u001b[1;32mIn [32]\u001b[0m, in \u001b[0;36m<cell line: 1>\u001b[1;34m()\u001b[0m\n\u001b[0;32m      2\u001b[0m pybankreader \u001b[38;5;241m=\u001b[39m csv\u001b[38;5;241m.\u001b[39mreader(pybankcsv, delimiter\u001b[38;5;241m=\u001b[39m\u001b[38;5;124m'\u001b[39m\u001b[38;5;124m,\u001b[39m\u001b[38;5;124m'\u001b[39m)\n\u001b[0;32m      3\u001b[0m first_row \u001b[38;5;241m=\u001b[39m \u001b[38;5;28mnext\u001b[39m(pybankreader)\n\u001b[1;32m----> 4\u001b[0m second \u001b[38;5;241m=\u001b[39m \u001b[38;5;28;43mnext\u001b[39;49m\u001b[43m(\u001b[49m\u001b[43mfirst_row\u001b[49m\u001b[43m)\u001b[49m\n",
      "\u001b[1;31mTypeError\u001b[0m: 'list' object is not an iterator"
     ]
    }
   ],
   "source": [
    "with open(bank_path, 'r', encoding='utf-8') as pybankcsv:\n",
    "    pybankreader = csv.reader(pybankcsv, delimiter=',')\n",
    "    first_row = next(pybankreader)"
   ]
  },
  {
   "cell_type": "code",
   "execution_count": null,
   "id": "cf391a0b",
   "metadata": {},
   "outputs": [],
   "source": []
  }
 ],
 "metadata": {
  "kernelspec": {
   "display_name": "Python 3 (ipykernel)",
   "language": "python",
   "name": "python3"
  },
  "language_info": {
   "codemirror_mode": {
    "name": "ipython",
    "version": 3
   },
   "file_extension": ".py",
   "mimetype": "text/x-python",
   "name": "python",
   "nbconvert_exporter": "python",
   "pygments_lexer": "ipython3",
   "version": "3.9.12"
  }
 },
 "nbformat": 4,
 "nbformat_minor": 5
}
