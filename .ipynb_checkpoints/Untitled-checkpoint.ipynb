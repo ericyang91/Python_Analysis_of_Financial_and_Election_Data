{
 "cells": [
  {
   "cell_type": "markdown",
   "id": "44e48b41",
   "metadata": {},
   "source": [
    "# PyBank"
   ]
  },
  {
   "cell_type": "markdown",
   "id": "ca09c53c",
   "metadata": {},
   "source": [
    "The task is to create a Python script that analyzes the records to calculate each of the following:\n",
    "\n",
    "* The total number of months included in the dataset\n",
    "\n",
    "* The net total amount of \"Profit/Losses\" over the entire period\n",
    "\n",
    "* The changes in \"Profit/Losses\" over the entire period, and then the average of those changes\n",
    "\n",
    "* The greatest increase in profits (date and amount) over the entire period\n",
    "\n",
    "* The greatest decrease in profits (date and amount) over the entire period"
   ]
  },
  {
   "cell_type": "code",
   "execution_count": 2,
   "id": "56271468",
   "metadata": {},
   "outputs": [],
   "source": [
    "# Import dependencies\n",
    "import os\n",
    "import csv"
   ]
  },
  {
   "cell_type": "code",
   "execution_count": 16,
   "id": "ea001c44",
   "metadata": {},
   "outputs": [],
   "source": [
    "bank_path = r'C:\\Users\\ericj\\OneDrive\\Documents\\Repositories\\Python_Analysis_of_Financial_and_Election_Data\\PyBank\\Resources\\budget_data.csv'\n",
    "\n",
    "\n",
    "# Same as bank_path = r'C:\\\\Users\\\\ericj\\\\OneDrive\\\\Documents\\\\Repositories\\\\Python_Analysis_of_Financial_and_Election_Data\\\\PyBank\\\\Resources\\\\budget_data.csv'\n",
    "# 'r' allows python to read \\ as raw literal strings rather than having special meaning"
   ]
  },
  {
   "cell_type": "code",
   "execution_count": 34,
   "id": "693f9d73",
   "metadata": {},
   "outputs": [
    {
     "name": "stdout",
     "output_type": "stream",
     "text": [
      "['Date', 'Profit/Losses'] ['Jan-10', '1088983']\n"
     ]
    }
   ],
   "source": [
    "with open(bank_path, 'r', encoding='utf-8') as pybankcsv:\n",
    "    pybankreader = csv.reader(pybankcsv, delimiter=',')\n",
    "    header = next(pybankreader)\n",
    "    first_row = next(pybankreader)\n",
    "    print(header, first_row)"
   ]
  },
  {
   "cell_type": "code",
   "execution_count": null,
   "id": "f528df03",
   "metadata": {},
   "outputs": [],
   "source": []
  }
 ],
 "metadata": {
  "kernelspec": {
   "display_name": "Python 3 (ipykernel)",
   "language": "python",
   "name": "python3"
  },
  "language_info": {
   "codemirror_mode": {
    "name": "ipython",
    "version": 3
   },
   "file_extension": ".py",
   "mimetype": "text/x-python",
   "name": "python",
   "nbconvert_exporter": "python",
   "pygments_lexer": "ipython3",
   "version": "3.9.12"
  }
 },
 "nbformat": 4,
 "nbformat_minor": 5
}
