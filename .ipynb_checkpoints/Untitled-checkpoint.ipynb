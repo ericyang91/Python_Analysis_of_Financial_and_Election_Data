{
 "cells": [
  {
   "cell_type": "markdown",
   "id": "964702dd",
   "metadata": {},
   "source": [
    "# PyBank"
   ]
  },
  {
   "cell_type": "markdown",
   "id": "d88e7bc8",
   "metadata": {},
   "source": [
    "The task is to create a Python script that analyzes the records to calculate each of the following:\n",
    "\n",
    "* The total number of months included in the dataset\n",
    "\n",
    "* The net total amount of \"Profit/Losses\" over the entire period\n",
    "\n",
    "* The changes in \"Profit/Losses\" over the entire period, and then the average of those changes\n",
    "\n",
    "* The greatest increase in profits (date and amount) over the entire period\n",
    "\n",
    "* The greatest decrease in profits (date and amount) over the entire period"
   ]
  },
  {
   "cell_type": "code",
   "execution_count": 2,
   "id": "8f62982f",
   "metadata": {},
   "outputs": [],
   "source": [
    "# Import dependencies\n",
    "import os\n",
    "import csv"
   ]
  },
  {
   "cell_type": "code",
   "execution_count": 16,
   "id": "7648f945",
   "metadata": {},
   "outputs": [],
   "source": [
    "bank_path = r'C:\\Users\\ericj\\OneDrive\\Documents\\Repositories\\Python_Analysis_of_Financial_and_Election_Data\\PyBank\\Resources\\budget_data.csv'\n",
    "\n",
    "\n",
    "# Same as bank_path = r'C:\\\\Users\\\\ericj\\\\OneDrive\\\\Documents\\\\Repositories\\\\Python_Analysis_of_Financial_and_Election_Data\\\\PyBank\\\\Resources\\\\budget_data.csv'\n",
    "# 'r' allows python to read \\ as raw literal strings rather than having special meaning"
   ]
  },
  {
   "cell_type": "code",
   "execution_count": 20,
   "id": "cf2376f4",
   "metadata": {},
   "outputs": [
    {
     "ename": "SyntaxError",
     "evalue": "invalid syntax (135639292.py, line 4)",
     "output_type": "error",
     "traceback": [
      "\u001b[1;36m  Input \u001b[1;32mIn [20]\u001b[1;36m\u001b[0m\n\u001b[1;33m    for i=range(-1):\u001b[0m\n\u001b[1;37m         ^\u001b[0m\n\u001b[1;31mSyntaxError\u001b[0m\u001b[1;31m:\u001b[0m invalid syntax\n"
     ]
    }
   ],
   "source": [
    "with open(bank_path, 'r', encoding='utf') as pybankcsv:\n",
    "    pybankreader = csv.reader(pybankcsv, delimiter=',')\n",
    "    for i, line in enumerate(pybankreader):\n",
    "        for i=range(-1):\n",
    "            print(line)"
   ]
  },
  {
   "cell_type": "code",
   "execution_count": null,
   "id": "79c0681a",
   "metadata": {},
   "outputs": [],
   "source": []
  }
 ],
 "metadata": {
  "kernelspec": {
   "display_name": "Python 3 (ipykernel)",
   "language": "python",
   "name": "python3"
  },
  "language_info": {
   "codemirror_mode": {
    "name": "ipython",
    "version": 3
   },
   "file_extension": ".py",
   "mimetype": "text/x-python",
   "name": "python",
   "nbconvert_exporter": "python",
   "pygments_lexer": "ipython3",
   "version": "3.9.12"
  }
 },
 "nbformat": 4,
 "nbformat_minor": 5
}
